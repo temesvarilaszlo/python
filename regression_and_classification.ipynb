{
  "nbformat": 4,
  "nbformat_minor": 0,
  "metadata": {
    "colab": {
      "provenance": []
    },
    "kernelspec": {
      "name": "python3",
      "display_name": "Python 3"
    }
  },
  "cells": [
    {
      "cell_type": "markdown",
      "metadata": {
        "id": "UPNGQgO6aXtZ"
      },
      "source": [
        "# 1. házi feladat\n",
        "\n",
        "Az első házi feladat során egy egyszerű Multi-layer Perceptron (MLP) típusú neuronhálót kell betanítani és kiértékelni egy regressziós és egy klasszifikációs feladaton a PyTorch könyvtár segítségével.\n",
        "\n",
        "A házi feladat több részfeladatból áll (A - I), melyek egymásra épülnek. A feladat automatikus tesztelőszkripttel rendelkezik és vizsgálja az egyes részfeladatokra adott megoldások helyességét. Éppen ezért, **ne változtasd meg a notebook struktúráját**, ne szedd több részre, illetve ne módosítsd a megírt részeket, csak a megoldásaidat írd be a megfelelő helyre, különben nem fogjuk tudni értékelni! A megoldások az `# Implement your solution BELOW` és `# Implement your solution ABOVE` sorok közé írandók. Ha a megoldott részfeladatok futtatásakor a \"Tester: .... OK\" felirat megjelenik, _vélhetően_ jó a megoldás. Azonban, a tesztelőszkript nem képes a megoldás helyességét minden aspektus szerint ellenőrizni. Így elképzelhető, hogy beadás után további javításokat kérünk a megoldásban. A beadott házi feladatok gépi tanulás alapú plágiumellenőrzésen esnek át. Másolás gyanújának felmerülése esetén mind a másolat(ok), mind az azt/azokat ihlető eredeti megoldások visszautasíthatók.\n",
        "\n",
        "**!!! A feladatok megoldását, vagy az arra mutató linkeket bárhol közzétenni tilos !!!**\n",
        "\n",
        "Elakadás esetén javasolt átnézni a Canvason megosztott segédanyag notebookokat és az előadások anyagát. A Canvas fórumon \"HF1 GYIK\" névvel, a gyakori kérdéseket és válaszokat gyűjtjük össze. Továbbá, kérhető segítség az oktatóktól is, például a Teams rendszeren keresztül. Ehhez, kérjük a kurzus Canvas oldalán a legfelső modulban található _\"\n",
        "Teams beszélgetés indítása az oktatókkal\"_ linket használni: ez egy Teams beszélgetést kezdeményez az összes oktatóval egyidejűleg.\n",
        "\n",
        "**Megoldás és beküldés menete:**\n",
        "\n",
        "A közzétett, feladatokat tartalmazó Jupyter notebook a Google Drive-on keresztül lett megosztva, így a Google saját Jupyter notebook szerkesztője és futtatókörnyezete nyílik meg a linkre kattintáskor, a Google Colab. Ennek segítségével online szerkeszthető és futtatható a megosztott notebook. Mivel a notebook csak \"view\" jogosultságokkal van megosztva, a Google Colab az úgynevezett \"Playground\" módban nyitja azt meg, ahol bár szerkeszthető és futtatható a notebook, de a változtatások nem lesznek automatikusan mentve. A notebook maradandó hatásokkal járó szerkesztése az alábbi módokon lehetséges:\n",
        "- Ha online szeretnénk a notebookot szerkeszteni és futtatni a Google Colab segítségével, akkor le kell másolni azt a saját Drive tárhelyre (Google Colab file menü -> Save a copy to Drive), majd a másolatot kell megnyitni szerkesztésre.\n",
        "- A notebook le is tölthető és saját számítógépen is szerkeszthető / futtatható. Ehhez Python környezet megléte szükséges, valamint a notebookban importált Python csomagok és a `jupyterlab`, vagy `notebook` (https://jupyter.org/install) csomag telepítése szükséges a Python disztribúciónk csomagkezelőjével (`pip`, `conda`, stb.).\n",
        "\n",
        "A kész megoldást tartalmazó notebookot (.ipynb) fájlként kell feltölteni a Canvas-ban, a házi feladat beadási felületén.\n",
        "**Kérjük a notebook szerkezetét nem módosítani és nem szétszedni külön feladatok szerint!**\n",
        "\n",
        "**Határidő:** 2024. március 30., szombat, 23:59.\n",
        "\n",
        "**Késve legkésőbb leadható:** 2024. április 5., péntek, 23:59. - **Ezt követően pótlásra és/vagy javításra nincs lehetőség, ezáltal jegyszerzésre sem. !!!**\n",
        "\n",
        "**Értékelés:** A házi feladat helyes megoldása és oktatók által történő elfogadása feltétele a jegyszerzésnek. A házi feladat minősége részletesen pontozásra nem kerül, az értékelése kétfokozatú: megfelelt / nem felelt meg. Az első határidőig leadott nagyrészt helyes és nagyrészt teljes (\"megfelelt\") megoldásért 10 pont jár. Késés esetén ez elveszik.\n",
        "\n",
        "**Kikötés:** Ahol csak lehet, hatékony, vektorizált megoldásokat várunk. További részletekért lásd: Canvas, HF1 GYIK fórum, \"Használhatók-e Python ciklusok?\" bejegyzés."
      ]
    },
    {
      "cell_type": "markdown",
      "metadata": {
        "id": "dEKuTE7hGsZr"
      },
      "source": [
        "Tesztelő szkript letöltése, importok."
      ]
    },
    {
      "cell_type": "code",
      "metadata": {
        "id": "dc9fa3F-T0u5",
        "colab": {
          "base_uri": "https://localhost:8080/"
        },
        "outputId": "4d7c2c61-3d9d-4bba-8c83-ceed0d109acc"
      },
      "source": [
        "# Download tester\n",
        "!rm annbsc24_p1_hw1_tester.py\n",
        "!wget https://nipg12.inf.elte.hu/~vavsaai@nipg.lab/annbsc24_p1/files/annbsc24_p1_hw1_tester.py\n",
        "\n",
        "import copy\n",
        "import numpy as np\n",
        "import torch\n",
        "import torch.nn as nn\n",
        "from torch.utils.data import Dataset, DataLoader\n",
        "\n",
        "import matplotlib.pyplot as plt\n",
        "\n",
        "from annbsc24_p1_hw1_tester import Tester"
      ],
      "execution_count": 1276,
      "outputs": [
        {
          "output_type": "stream",
          "name": "stdout",
          "text": [
            "--2024-03-30 01:38:58--  https://nipg12.inf.elte.hu/~vavsaai@nipg.lab/annbsc24_p1/files/annbsc24_p1_hw1_tester.py\n",
            "Resolving nipg12.inf.elte.hu (nipg12.inf.elte.hu)... 157.181.160.172\n",
            "Connecting to nipg12.inf.elte.hu (nipg12.inf.elte.hu)|157.181.160.172|:443... connected.\n",
            "HTTP request sent, awaiting response... 200 OK\n",
            "Length: 14778 (14K)\n",
            "Saving to: ‘annbsc24_p1_hw1_tester.py’\n",
            "\n",
            "annbsc24_p1_hw1_tes 100%[===================>]  14.43K  86.2KB/s    in 0.2s    \n",
            "\n",
            "2024-03-30 01:38:59 (86.2 KB/s) - ‘annbsc24_p1_hw1_tester.py’ saved [14778/14778]\n",
            "\n"
          ]
        }
      ]
    },
    {
      "cell_type": "markdown",
      "metadata": {
        "id": "BJ7TTytUaUwW"
      },
      "source": [
        "###**A**: Az adatbázis betöltése\n",
        "\n",
        "**Információ az adatbázisról**:\n",
        "Az adatbázis az UCI Machine Learning Repository-ról származik (http://archive.ics.uci.edu/ml/datasets/Student+Performance). Két portugál középiskolában tanuló diákok néhány adatát és a harmadév végi, év végi jegyeiket (0-20) tartalmazza. A házi feladat keretében, **neuronhálókkal próbálunk a diákok szociális és pénzügyi háttere alapján becsléseket adni az iskolai teljesítményükre.**\n",
        "\n",
        "A tesztelőszkript letölti a szöveges formában tárolt adatbázist és elhelyezi a `content` sztringben. Alább, kiírjuk a hosszát és az első 500 karaktert is a sztringből. Az adatbázis fájlok egy-egy sora adja meg az egy-egy mintaelemhez tartozó változók értékeit. A sorokban az egyes változókhoz tartozó értékek pontosvesszővel vannak elválasztva. Az adatbázis első sora a változók neveit tartalmazza.\n",
        "\n",
        "A feladatod, hogy **alakítsd át a `content` sztringet az adatbázis változóinak értékeit tartalmazó NumPy tömbbé.** A tömbök adattípusa np.float32 (lebegőpontos) legyen! A változók értékeit helyezd el a `dataset_noisy` (n_mintaelem, n_változó) alakú tömbben!  Az input változókat és címkéket később választjuk majd szét.\n",
        "\n",
        "Az adatbázis helyenként hiányzó értékeket tartalmaz: az adatok egy része nem volt elérhető az adatbázis rögzítésekor. Konkrétabban, a család méretét, a szülők együttélését és munkáját leíró oszlopokban találhatók hiányzó értékek. Ezek az ötödik (famsize), hatodik (Pstatus), kilencedik (Mjob) és tizedik (Fjob) oszlopokban találhatók. Hiányzó értékek esetén a `content` sztringben ténylegesen is hiányoznak a megfelelő pontosvesszők közt elhelyezkedő értékek, tehát ilyenkor két (vagy több) pontosvessző következik egymás után.\n",
        "\n",
        "A hiányzó értékeket kezelned kell és fel kell ismerned beolvasás közben: a hiányzó értékek helyére a `dataset_noisy` tömbben `np.nan` (Not-a-Number) értékek kell, hogy kerüljenek. A NaN értékek kezeléséről rövid útmutató található a Canvas-on, a HF1 GYIK fórum válaszai közt."
      ]
    },
    {
      "cell_type": "code",
      "metadata": {
        "id": "OdKqP5OvXJpX",
        "colab": {
          "base_uri": "https://localhost:8080/"
        },
        "outputId": "9df11340-ceb0-410f-910a-aade9bab3518"
      },
      "source": [
        "tester = Tester()\n",
        "content = tester.get_dataset_content()\n",
        "\n",
        "print(\"Number of characters in dataset:\", len(content))\n",
        "print(content[:1000])\n"
      ],
      "execution_count": 1277,
      "outputs": [
        {
          "output_type": "stream",
          "name": "stdout",
          "text": [
            "Number of characters in dataset: 27388\n",
            "school;sex;age;address;famsize;Pstatus;Medu;Fedu;Mjob;Fjob;reason;guardian;traveltime;studytime;failures;schoolsup;famsup;paid;activities;nursery;higher;internet;romantic;famrel;freetime;goout;Dalc;Walc;health;absences;G1;G2;G3\n",
            "0;0;18;0;1;1;4;4;5;0;4;0;2;2;0;0;1;1;1;0;0;1;1;4;3;4;1;1;3;6;5;6;6\n",
            "0;0;17;0;1;0;1;1;5;3;4;1;1;2;0;1;0;1;1;1;0;0;1;5;3;3;1;1;3;4;5;5;6\n",
            "0;0;15;0;0;0;1;1;5;3;3;0;1;2;3;0;1;0;1;0;0;0;1;4;3;2;2;3;3;10;7;8;10\n",
            "0;0;15;0;1;0;4;2;;4;0;0;1;3;0;1;0;0;0;0;0;0;0;3;2;2;1;1;5;2;15;14;15\n",
            "0;0;16;0;1;0;3;3;3;3;0;1;1;2;0;1;0;0;1;0;0;1;1;4;3;2;1;2;5;4;6;10;10\n",
            "0;1;16;0;0;0;4;3;4;3;1;0;1;2;0;1;0;0;0;0;0;0;1;5;4;2;1;2;5;10;15;15;15\n",
            "0;1;16;0;0;;2;2;3;3;0;0;1;2;0;1;1;1;1;0;0;0;1;4;4;4;1;1;3;0;12;12;11\n",
            "0;0;17;0;1;1;4;4;3;0;0;0;2;2;0;0;0;1;1;0;0;1;1;4;1;4;1;1;1;6;6;5;6\n",
            "0;1;15;0;0;1;3;2;4;3;0;0;1;2;0;1;0;0;1;0;0;0;1;4;2;2;1;1;1;0;16;18;19\n",
            "0;1;15;0;1;0;3;4;;3;0;0;1;2;0;1;0;0;0;0;0;0;1;5;5;1;1;1;5;0;14;15;15\n",
            "0;0;15;0;1;;4;4;0;1;1;0;1;2;0;1;0;0;1;0;0;0;1;3;3;3;1;2;2;0;10;8;9\n",
            "0;0;15;0;1;0;2;1;4\n"
          ]
        }
      ]
    },
    {
      "cell_type": "code",
      "metadata": {
        "id": "q_kfEC4sEMtw",
        "colab": {
          "base_uri": "https://localhost:8080/"
        },
        "outputId": "ea1f3a08-698f-4f8d-e65d-0bd4f98ebcf3"
      },
      "source": [
        "# implement your solution BELOW\n",
        "split_content = [line.split(\";\") for line in content.split('\\n')]\n",
        "\n",
        "col_names = split_content[0]\n",
        "data = split_content[1:len(split_content)-1]\n",
        "\n",
        "for i in range(len(data)):\n",
        "    for j in range(len(data[i])):\n",
        "        if data[i][j] == '':\n",
        "            data[i][j] = np.nan\n",
        "\n",
        "dataset_noisy = np.array(data, dtype=np.float32)\n",
        "\n",
        "\n",
        "# implement your solution ABOVE\n",
        "\n",
        "tester.test('dataset_load', dataset_noisy)"
      ],
      "execution_count": 1278,
      "outputs": [
        {
          "output_type": "stream",
          "name": "stdout",
          "text": [
            "Tester: Dataset loading OK\n"
          ]
        }
      ]
    },
    {
      "cell_type": "markdown",
      "source": [
        "## **B**: A hiányzó adat kezelése\n",
        "\n",
        "NaN értékekkel nem fogunk tudni tovább dolgozni, hiszen a legtöbb NumPy/PyTorch művelet nem támogatja őket és bármilyen tömbre, melyben legalább egy NaN érték található, ezen műveletek kimenete is NaN lesz, így például a neuronhálónk becslése és költsége is. Utóbbi megakadályozza, hogy a hálót gradiens módszerrel optimalizáljuk. Éppen ezért, a hiányzó adatokat reprezentáló NaN értékeket az alábbi módon fogjuk eltüntetni:\n",
        "\n",
        "**Hozz létre minden NaN értéket tartalmazó változóhoz egy-egy újabb változót, melyek azt jelzik, hogy valódi érték található-e az adott változóban az adott mintaelemnél, vagy nem!** Valódi érték esetén az új változó kapjon 1 értéket, NaN esetén pedig 0 értéket! Helyezd el az eredeti adatot és az új változókat a `dataset` tömbben: az új változók oszlopai kerüljenek megfelelő sorrendben az összes eredeti változót tartalmazó oszlop **után**! Az előző feladat leírásában említésre került, hogy melyik oszlopok tartalmazhatnak NaN értékeket.</br>\n",
        "Mivel a 33 változós adatbázisunk #4, #5, #8 és #9 indexű oszlopai (változói) tartalmazhatnak NaN értékeket, akkor az új `dataset` tömbünk 37 változós lesz és a négy új változó az utolsó négy oszlopba kerül. Például tehát, a #33 indexű oszlopban egy adott sorba nullás érték kerül, ha a #4-es oszlopban annál a sornál NaN található, egyébként pedig 1-es érték kerül oda. Hasonlóan készítjük el a #34, #35, #36 indexű oszlopokat az #5, #8 és #9 indexű oszlopok alapján.\n",
        "\n",
        "Végül, **helyettesítsd** az így elkészült **tömb összes NaN értékét nullával!**\n"
      ],
      "metadata": {
        "id": "h742EV1H38vK"
      }
    },
    {
      "cell_type": "code",
      "source": [
        "# implement your solution BELOW\n",
        "\n",
        "var_4_has_value = np.where(np.isnan(dataset_noisy[:, 4]), 0, 1)\n",
        "var_5_has_value = np.where(np.isnan(dataset_noisy[:, 5]), 0, 1)\n",
        "var_8_has_value = np.where(np.isnan(dataset_noisy[:, 8]), 0, 1)\n",
        "var_9_has_value = np.where(np.isnan(dataset_noisy[:, 9]), 0, 1)\n",
        "\n",
        "dataset = np.column_stack((\n",
        "    dataset_noisy,\n",
        "    var_4_has_value,\n",
        "    var_5_has_value,\n",
        "    var_8_has_value,\n",
        "    var_9_has_value\n",
        ")).astype(np.float32)\n",
        "\n",
        "dataset = np.nan_to_num(dataset, nan=0)\n",
        "\n",
        "orig_dataset = np.array(dataset)\n",
        "# implement your solution ABOVE\n",
        "\n",
        "tester.test('dataset_fill_missing', dataset)"
      ],
      "metadata": {
        "id": "tqx3YTmF4KGT",
        "colab": {
          "base_uri": "https://localhost:8080/"
        },
        "outputId": "2fb51b4c-bc3f-456e-f3f9-53dff4045425"
      },
      "execution_count": 1279,
      "outputs": [
        {
          "output_type": "stream",
          "name": "stdout",
          "text": [
            "Tester: Dataset loading OK\n"
          ]
        }
      ]
    },
    {
      "cell_type": "markdown",
      "metadata": {
        "id": "KrE7NLJTR7Aq"
      },
      "source": [
        "## **C**: Tanító-, validációs- és teszthalmaz szétválasztása\n",
        "\n",
        "**Keverd meg véletlenszerűen a mintaelemeket** a `dataset` tömbben! Ezt általánosságban azért célszerű megtenni, mert az adatbázisban az elemek valamilyen tulajdonságaik alapján rendezve lehetnek. Megkeverés nélkül, a szétválasztott halmazokban jelentősen különbözne a címkék eloszlása.\n",
        "\n",
        "Ezt követően **válaszd szét a tömböt tanító-, validációs- és teszthalmazra**, 60%, 20%, 20% arányban! A halmazokat tartalmazó három tömböt nevezd el `dataset_split_train`, `dataset_split_val`, `dataset_split_test`-nek, sorrendben!"
      ]
    },
    {
      "cell_type": "code",
      "source": [
        "# implement your solution BELOW\n",
        "\n",
        "np.random.shuffle(dataset)\n",
        "\n",
        "train_end_index = int(0.6 * len(dataset))\n",
        "val_end_index = int(0.2 * len(dataset) + train_end_index)\n",
        "\n",
        "dataset_split_train = dataset[:train_end_index]\n",
        "dataset_split_val = dataset[train_end_index:val_end_index]\n",
        "dataset_split_test = dataset[val_end_index:]\n",
        "\n",
        "# implement your solution ABOVE\n",
        "\n",
        "tester.test('dataset_split', dataset_split_train, dataset_split_val, dataset_split_test)"
      ],
      "metadata": {
        "id": "VlPL_GE2xcR1",
        "colab": {
          "base_uri": "https://localhost:8080/"
        },
        "outputId": "f0a5d4d1-81ad-4d91-945e-f0edba0e9e46"
      },
      "execution_count": 1280,
      "outputs": [
        {
          "output_type": "stream",
          "name": "stdout",
          "text": [
            "Tester: Dataset split OK\n"
          ]
        }
      ]
    },
    {
      "cell_type": "markdown",
      "source": [
        "## **D**: Az adat-iterátorok létrehozása a regressziós feladathoz\n",
        "\n",
        "A neuronhálók gradiens módszeres betanítását a legtöbbször iterátorokkal valósítjuk meg, melyek bejárják az adatbázisunkat és előállítják a neuronhálók tanításához szükséges input és címke kötegeket. A regressziós feladat során a becsülendő címkeváltozó a diákok év végi jegye lesz (`G3` nevű oszlop az eredeti adatbázis szövegfájlban - ez a 32-es indexű oszlop), míg az input változókat az összes többi attribútum adja, beleértve az újonnan előállított négy változót is.\n",
        "\n",
        "Ebben a részfeladatban **elő kell állítanod három iterátor objektumot** `dataloader_reg_train`, `dataloader_reg_val`, `dataloader_reg_test` néven, melyek az előző részfeladatban elkészített tanító-, validációs- és teszthalmazokat tartalmazó tömböket járják be. **Az iterátorok minden lépésben két tenzort adnak vissza**, melyek egy-egy kötegnyi input és címke adatot tárolnak el. A visszaadott tenzorok alakja tehát `(batch_size, 36)` és `(batch_size, 1)` lesz. Utóbbi (a címkéket tartalmazó tenzor) a diákok év végi jegyeit fogja tartalmazni, előbbi pedig az adatbázis összes többi változójának értékét a megfelelő mintaelemekre. `batch_size` a mintaelemek számát adja meg, melyeket egyszerre, egy kötegben fog megkapni a neuronhálónk - ennek értéke lehet például 32.\n",
        "\n",
        "Hangsúlyozandó, hogy az iterátorok a fent említett NumPy tömbökből (`np.ndarray`) nyert mintaelem-kötegeket már `torch.tensor` típusú objektumokként adják vissza (pontosabban, kételemű tuple-öket adnak vissza, melyekben `torch.tensor` objektumok lesznek). A PyTorch-al definiált neuronhálók betanításához már mindenképp PyTorch tenzorok szükségesek. A tenzorok **adattípusa** 4 bájtos lebegőpontos típus (`torch.float32`) legyen!\n",
        "\n",
        "A **tanító és validációs halmazt felsoroló iterátorok járják be véletlen sorrendben** a hozzájuk tartozó mintaelemeket! A teszt halmazt felsoroló iterátor ne változtasson a `dataset_split_test` tömb sorrendjén!\n",
        "\n",
        "Az iterátorok implementációja többféleképpen megoldható, de javasolt a `torch.utils.data` modul `Dataset` és `DataLoader` osztályait felhasználni, vagy szükség esetén származtatni őket."
      ],
      "metadata": {
        "id": "jCQKy2XL_yEx"
      }
    },
    {
      "cell_type": "code",
      "metadata": {
        "id": "ls4niplvUgQ6",
        "colab": {
          "base_uri": "https://localhost:8080/"
        },
        "outputId": "91cf4c59-9bff-4883-8409-766fab808947"
      },
      "source": [
        "# implement your solution BELOW\n",
        "g3_ind = col_names.index(\"G3\")\n",
        "\n",
        "class GradeDataset(Dataset):\n",
        "    def __init__(self, data):\n",
        "        features = np.delete(data, g3_ind, axis=1)\n",
        "        target = data[:,[g3_ind]]\n",
        "\n",
        "        self.features = torch.tensor(features, dtype=torch.float32)\n",
        "        self.target = torch.tensor(target, dtype=torch.float32)\n",
        "\n",
        "    def __len__(self):\n",
        "        return len(self.features)\n",
        "\n",
        "    def __getitem__(self, idx):\n",
        "        return self.features[idx], self.target[idx]\n",
        "\n",
        "train_dataset = GradeDataset(dataset_split_train)\n",
        "val_dataset = GradeDataset(dataset_split_val)\n",
        "test_dataset = GradeDataset(dataset_split_test)\n",
        "\n",
        "b_size = 32\n",
        "\n",
        "dataloader_reg_train = DataLoader(train_dataset, batch_size=b_size, shuffle=True)\n",
        "dataloader_reg_val = DataLoader(val_dataset, batch_size=b_size, shuffle=True)\n",
        "dataloader_reg_test = DataLoader(test_dataset, batch_size=b_size, shuffle=False)\n",
        "\n",
        "# implement your solution ABOVE\n",
        "\n",
        "tester.test('reg_iter', dataloader_reg_train, dataloader_reg_val, dataloader_reg_test)"
      ],
      "execution_count": 1281,
      "outputs": [
        {
          "output_type": "stream",
          "name": "stdout",
          "text": [
            "Tester: Dataset iterators for regression task OK\n"
          ]
        }
      ]
    },
    {
      "cell_type": "markdown",
      "metadata": {
        "id": "dohOMs4NlVXG"
      },
      "source": [
        "## **E**: A regressziós neuronháló definiálása\n",
        "\n",
        "**Definiáld a regressziós feladathoz alkalmazandó neuronhálót megvalósító osztályt**, mely az általános `torch.nn.Module` osztály leszármazottja, majd példányosítsd azt és add értékül a `reg_model` nevű változónak a példányt!\n",
        "\n",
        "A regressziós neuronháló **tartalmazzon 3 teljesen összekötött réteget, sorban 30, 20 és 1 neuronnal és alkalmazza a ReLU aktivációs függvényt a rétegek között!**\n",
        "\n",
        "Az új osztálynak mindenképpen meg kell valósítania a `forward(self, x)` tagfüggvényt, mely a neuronhálót (hipotézisfüggvényt) az `x` input tenzorra kiértékeli. A `forward` függvény fogja majd az előbb definiált adat-iterátorból érkező input tenzorokat megkapni és előállítani belőle a címkebecsléseket. Az osztály konstruktorában célszerű a neuronhálónk rétegeit inicializálni."
      ]
    },
    {
      "cell_type": "code",
      "metadata": {
        "id": "rAywpNOml4VL",
        "colab": {
          "base_uri": "https://localhost:8080/"
        },
        "outputId": "79dea1b4-aadf-4d7b-ea01-88b7a4cfd699"
      },
      "source": [
        "# implement your solution BELOW\n",
        "class RegressionModel(nn.Module):\n",
        "  def __init__(self, input_dim):\n",
        "        super().__init__()\n",
        "        self.linear_relu_layers = nn.Sequential(\n",
        "            nn.Linear(input_dim, 30),\n",
        "            nn.ReLU(),\n",
        "            nn.Linear(30, 20),\n",
        "            nn.ReLU(),\n",
        "            nn.Linear(20, 1)\n",
        "        )\n",
        "\n",
        "  def forward(self, x):\n",
        "      return self.linear_relu_layers(x)\n",
        "\n",
        "reg_model = RegressionModel(36)\n",
        "\n",
        "\n",
        "# implement your solution ABOVE\n",
        "\n",
        "tester.test('reg_model_architecture', reg_model)"
      ],
      "execution_count": 1282,
      "outputs": [
        {
          "output_type": "stream",
          "name": "stdout",
          "text": [
            "Tester: Regression model architecture OK\n"
          ]
        }
      ]
    },
    {
      "cell_type": "markdown",
      "metadata": {
        "id": "Pz4fFtBUhUXV"
      },
      "source": [
        "## **F**: A háló betanítása regressziós feladatra\n",
        "\n",
        "**Tanítsd be a** `reg_model` **neuronhálót** a tanítóhalmazon a `dataloader_reg_train` iterátor segítségével és alkalmazd a `dataloader_reg_val` iterátort a validációhoz! Az iterátorok egyetlen (akár véletlen sorrendben történő) végighaladása a tanító és validációs adathalmazokon határoz meg egy _epoch_-ot.\n",
        "\n",
        "Alkalmazd a regressziókor szokásosan használt **\"átlagos négyzetes eltérés\" költséget**! **Mérd le minden epoch-ban a tanító- és a validációs halmazon mért költségeket, majd a tanítás végeztével rajzold ki ezeknek az értékeknek a tanítás során való alakulását egy közös grafikonon!** A grafikonok kirajzolásához használhatod például a `matplotlib` könyvtárat. Figyelj rá, hogy a grafikonon jól látszódjanak a görbék közti eltérések a tanítás végén is! Ha szükséges, beállíthatod ehhez kézzel, hogy az y tengely melyik részét mutassa a grafikon. **A grafikonon legyen jelmagyarázat** (legend), mely megmutatja, melyik görbe írja le a tanítási költséget és melyik a validációs költséget!\n",
        "\n",
        "Azt, hogy a tanítás meddig tartson (az epoch-ok számát) megadhatod kézzel is, a validációs költség alakulása alapján: próbáld úgy megadni, hogy a neuronháló lehetőleg jól betanult legyen, de súlyos túltanulás még ne jelenjen meg!\n",
        "\n",
        "A betanításhoz válassz egy gradiens módszer alapú **optimalizációs algoritmust** a `torch.optim` modulból (pl. `SGD`, `Adam`, `RMSprop`, stb.), majd válassz egy megfelelő **tanulási rátát** is!\n",
        "\n",
        "A betanítás végeztével **mérd le az átlagos költséget a teljes teszthalmazon** és add értékül a kapott számot a `test_mse` változónak!\n",
        "\n",
        "Ezt követően, **válassz néhány mintaelemet a teszthalmazból** (például a `dataloader_reg_test` iterátor segítségével) és **adj becslést a címkéjükre** az input változók értékei alapján, majd **írasd ki az egyes mintaelemekre a becsült és az igazi címkéjüket!** Így példákon is láthatjuk, hogy mennyire ad jó becsléseket a neuronhálónk.\n",
        "\n"
      ]
    },
    {
      "cell_type": "code",
      "source": [
        "# implement your solution BELOW\n",
        "epochs = 50\n",
        "loss_fn = nn.MSELoss()\n",
        "\n",
        "learning_rate = 0.01\n",
        "optimizer = torch.optim.Adam(reg_model.parameters(), lr=learning_rate)\n",
        "\n",
        "train_losses = []\n",
        "val_losses = []\n",
        "\n",
        "for epoch in range(epochs):\n",
        "  # training\n",
        "  reg_model.train()\n",
        "  train_epoch_losses = []\n",
        "\n",
        "  for x, y in dataloader_reg_train:\n",
        "    optimizer.zero_grad()\n",
        "    y_hat = reg_model(x)\n",
        "    loss = loss_fn(y_hat, y)\n",
        "    train_epoch_losses.append(loss)\n",
        "    loss.backward()\n",
        "    optimizer.step()\n",
        "\n",
        "  train_epoch_losses = torch.tensor(train_epoch_losses)\n",
        "  avg_epoch_loss = train_epoch_losses.mean()\n",
        "  train_losses.append(avg_epoch_loss)\n",
        "\n",
        "  # validation\n",
        "  reg_model.eval()\n",
        "  val_epoch_losses = []\n",
        "\n",
        "  for x, y in dataloader_reg_val:\n",
        "    with torch.no_grad():\n",
        "      y_hat = reg_model(x)\n",
        "\n",
        "    loss = loss_fn(y_hat, y)\n",
        "    val_epoch_losses.append(loss)\n",
        "\n",
        "  val_epoch_losses = torch.tensor(val_epoch_losses)\n",
        "  avg_epoch_loss = val_epoch_losses.mean()\n",
        "  val_losses.append(avg_epoch_loss)\n",
        "\n",
        "  print(f'Training {epoch+1}/{epochs} done, training loss: {train_losses[-1]}, validation loss: {val_losses[-1]}')\n",
        "\n",
        "# testing\n",
        "reg_model.eval()\n",
        "test_losses = []\n",
        "prediction_label_pairs = []\n",
        "for x, y in dataloader_reg_test:\n",
        "    with torch.no_grad():\n",
        "      y_hat = reg_model(x)\n",
        "    loss = loss_fn(y_hat, y)\n",
        "    prediction_label_pairs.append(torch.concat((y_hat, y), dim=-1))\n",
        "    test_losses.append(loss)\n",
        "\n",
        "test_mse = torch.tensor(test_losses).mean()\n",
        "print(\"Test metrics - MSE:\", test_mse.item())\n",
        "print(\"Test sample [predicted, actual]:\\n\", prediction_label_pairs[0][:10])\n",
        "\n",
        "# plotting\n",
        "plt.plot(train_losses, label='Training')\n",
        "plt.plot(val_losses, label='Validation')\n",
        "plt.xlabel('Epochs')\n",
        "plt.ylabel('MSE loss')\n",
        "plt.legend()\n",
        "plt.ylim(0,10)\n",
        "plt.show()\n",
        "\n",
        "# implement your solution ABOVE\n",
        "\n",
        "tester.test('reg_model_learning', test_mse)"
      ],
      "metadata": {
        "id": "ReFyxJXAzcx5",
        "colab": {
          "base_uri": "https://localhost:8080/",
          "height": 1000
        },
        "outputId": "a3ec7e5a-5900-48a5-b8ea-942a07539e1b"
      },
      "execution_count": 1283,
      "outputs": [
        {
          "output_type": "stream",
          "name": "stdout",
          "text": [
            "Training 1/50 done, training loss: 52.10530090332031, validation loss: 35.7238655090332\n",
            "Training 2/50 done, training loss: 22.806476593017578, validation loss: 24.236661911010742\n",
            "Training 3/50 done, training loss: 17.01354217529297, validation loss: 12.585724830627441\n",
            "Training 4/50 done, training loss: 12.833972930908203, validation loss: 9.988755226135254\n",
            "Training 5/50 done, training loss: 10.16838550567627, validation loss: 7.655570983886719\n",
            "Training 6/50 done, training loss: 7.370233058929443, validation loss: 5.861537933349609\n",
            "Training 7/50 done, training loss: 5.861434459686279, validation loss: 5.516453266143799\n",
            "Training 8/50 done, training loss: 5.508500576019287, validation loss: 4.088571548461914\n",
            "Training 9/50 done, training loss: 4.798047065734863, validation loss: 6.383323669433594\n",
            "Training 10/50 done, training loss: 5.243844032287598, validation loss: 5.446313381195068\n",
            "Training 11/50 done, training loss: 4.779055118560791, validation loss: 3.7960760593414307\n",
            "Training 12/50 done, training loss: 3.9200572967529297, validation loss: 3.5597174167633057\n",
            "Training 13/50 done, training loss: 4.556026935577393, validation loss: 3.800605058670044\n",
            "Training 14/50 done, training loss: 4.155126571655273, validation loss: 4.412596225738525\n",
            "Training 15/50 done, training loss: 3.681040048599243, validation loss: 4.181142807006836\n",
            "Training 16/50 done, training loss: 3.670109272003174, validation loss: 3.567516326904297\n",
            "Training 17/50 done, training loss: 3.6192383766174316, validation loss: 3.954281806945801\n",
            "Training 18/50 done, training loss: 3.2970590591430664, validation loss: 3.7432806491851807\n",
            "Training 19/50 done, training loss: 3.170553207397461, validation loss: 2.957214117050171\n",
            "Training 20/50 done, training loss: 2.654985189437866, validation loss: 3.053468942642212\n",
            "Training 21/50 done, training loss: 2.5408170223236084, validation loss: 3.7475852966308594\n",
            "Training 22/50 done, training loss: 2.6449713706970215, validation loss: 5.48552131652832\n",
            "Training 23/50 done, training loss: 3.1959497928619385, validation loss: 3.867539644241333\n",
            "Training 24/50 done, training loss: 2.4771156311035156, validation loss: 3.2123897075653076\n",
            "Training 25/50 done, training loss: 2.176736831665039, validation loss: 2.7123515605926514\n",
            "Training 26/50 done, training loss: 2.2133636474609375, validation loss: 3.506199598312378\n",
            "Training 27/50 done, training loss: 2.1247339248657227, validation loss: 3.348355531692505\n",
            "Training 28/50 done, training loss: 2.18442440032959, validation loss: 2.9278337955474854\n",
            "Training 29/50 done, training loss: 2.117138147354126, validation loss: 2.7436599731445312\n",
            "Training 30/50 done, training loss: 2.143432140350342, validation loss: 2.759772539138794\n",
            "Training 31/50 done, training loss: 2.365550994873047, validation loss: 2.9982643127441406\n",
            "Training 32/50 done, training loss: 2.2643041610717773, validation loss: 3.230104446411133\n",
            "Training 33/50 done, training loss: 2.595993757247925, validation loss: 3.421010971069336\n",
            "Training 34/50 done, training loss: 2.040424108505249, validation loss: 3.697772264480591\n",
            "Training 35/50 done, training loss: 2.1370325088500977, validation loss: 3.5638961791992188\n",
            "Training 36/50 done, training loss: 1.8015673160552979, validation loss: 3.0758702754974365\n",
            "Training 37/50 done, training loss: 1.7625261545181274, validation loss: 2.6356801986694336\n",
            "Training 38/50 done, training loss: 1.78848397731781, validation loss: 2.4161570072174072\n",
            "Training 39/50 done, training loss: 1.7331149578094482, validation loss: 2.7614967823028564\n",
            "Training 40/50 done, training loss: 1.6298781633377075, validation loss: 2.743743658065796\n",
            "Training 41/50 done, training loss: 1.519294023513794, validation loss: 2.5744307041168213\n",
            "Training 42/50 done, training loss: 1.4811809062957764, validation loss: 3.109196424484253\n",
            "Training 43/50 done, training loss: 1.664018154144287, validation loss: 2.9890434741973877\n",
            "Training 44/50 done, training loss: 2.061795473098755, validation loss: 3.267838716506958\n",
            "Training 45/50 done, training loss: 2.1967530250549316, validation loss: 2.8619766235351562\n",
            "Training 46/50 done, training loss: 1.9206985235214233, validation loss: 2.6290252208709717\n",
            "Training 47/50 done, training loss: 1.6424667835235596, validation loss: 3.0877697467803955\n",
            "Training 48/50 done, training loss: 1.5671216249465942, validation loss: 2.6100547313690186\n",
            "Training 49/50 done, training loss: 1.4309934377670288, validation loss: 3.072376012802124\n",
            "Training 50/50 done, training loss: 1.245121717453003, validation loss: 3.2565765380859375\n",
            "Test metrics - MSE: 2.0966856479644775\n",
            "Test sample [predicted, actual]:\n",
            " tensor([[15.9654, 15.0000],\n",
            "        [13.6991, 14.0000],\n",
            "        [ 7.7307,  8.0000],\n",
            "        [ 9.3094,  9.0000],\n",
            "        [ 3.2565,  7.0000],\n",
            "        [10.0888, 11.0000],\n",
            "        [13.1537, 12.0000],\n",
            "        [ 6.8252, 10.0000],\n",
            "        [ 6.4446, 10.0000],\n",
            "        [16.9441, 16.0000]])\n"
          ]
        },
        {
          "output_type": "display_data",
          "data": {
            "text/plain": [
              "<Figure size 640x480 with 1 Axes>"
            ],
            "image/png": "[encoded data removed]"
          },
          "metadata": {}
        },
        {
          "output_type": "stream",
          "name": "stdout",
          "text": [
            "Tester: Regression model learning OK\n"
          ]
        }
      ]
    },
    {
      "cell_type": "markdown",
      "metadata": {
        "id": "pTBqUmDzPiYI"
      },
      "source": [
        "## **G**: Az adat-iterátorok létrehozása a klasszifikációs feladathoz\n",
        "\n",
        "Hasonlóan a D) feladathoz, itt is három adat-iterátort kell létrehoznunk, azonban ezúttal egy kissé eltérő feladatot fogunk megtanulni megoldani, így a visszaadott tenzorok alakja / adattípusa is eltérő lesz. **Állítsd elő** a `dataloader_cl_train`, `dataloader_cl_val`, `dataloader_cl_test` nevű **iterátorokat**, melyek ugyancsak a C) részfeladatban elkészült tanító-, validációs- és teszthalmazokat tartalmazó tömböket járják be! A klasszifikációs feladatban input változókként az összes változót felhasználjuk az adatbázisban, kivéve a három harmadév végi jegyét a diákoknak (`G1`, `G2`, `G3` nevű, #30, #31 és #32 indexű oszlopok az eredeti adatbázis szövegfájlban). Címkeként három kategóriát definiálunk és az összes diákot besoroljuk ezekbe a kategóriákba:\n",
        "- **\"Gyengén teljesítő diákok\"** kategória, #0 kategóriaindex: azon diákok kerülnek ide, akik átlagos jegye kisebb, mint 9.5.\n",
        "- **\"Közepesen teljesítő diákok\"** kategória, #1 kategóriaindex: azon diákok kerülnek ide, akik legnagyobb jegye kisebb, mint 14, de nem tartoznak a \"Gyengén teljesítő diákok\" közé.\n",
        "- **\"Jól teljesítő diákok\"** kategória, #2 kategóriaindex: azon diákok kerülnek ide, akik nem tartoznak a másik két kategóriába.\n",
        "\n",
        "A fentiek alapján az iterátorok által visszaadott tenzorok alakja `(batch_size, 34)` és `(batch_size,)` lesz. Utóbbi (a címkéket tartalmazó tenzor) a diákok kategóriaindexét fogja tartalmazni (azaz 0, 1, vagy 2 értékeket, `torch.int64` adattípusban), előbbi pedig az adatbázis összes felhasznált változójának értékét a megfelelő mintaelemekre `torch.float32` adattípusban. `batch_size` ezúttal is a mintaelemek számát adja meg, ez kézzel beállítandó.\n",
        "\n",
        "A **tanító és validációs halmazt felsoroló iterátorok véletlen sorrendben járják be** a hozzájuk tartozó mintaelemeket! A teszt halmazt felsoroló iterátor ne változtasson a `dataset_split_test` tömb sorrendjén!"
      ]
    },
    {
      "cell_type": "code",
      "source": [
        "# implement your solution BELOW\n",
        "g1_ind = col_names.index(\"G1\")\n",
        "g2_ind = col_names.index(\"G2\")\n",
        "# g3_ind = col_names.index(\"G3\") already defined\n",
        "\n",
        "class GradeMClassDataset(Dataset):\n",
        "    def __init__(self, data, train_min, train_max):\n",
        "        features = np.delete(data, [g1_ind, g2_ind, g3_ind], axis=1)\n",
        "\n",
        "        features = (features - train_min) / (train_max - train_min)\n",
        "\n",
        "        row_avg = np.mean(data[:, [g1_ind, g2_ind, g3_ind]], axis=1)\n",
        "        target = np.zeros(data.shape[0], dtype=int)\n",
        "        target[row_avg < 9.5] = 0\n",
        "        target[(row_avg >= 9.5) & (row_avg <= 14)] = 1\n",
        "        target[row_avg > 14] = 2\n",
        "\n",
        "        self.features = torch.tensor(features, dtype=torch.float32)\n",
        "        self.target = torch.tensor(target, dtype=torch.int64)\n",
        "\n",
        "    def __len__(self):\n",
        "        return len(self.features)\n",
        "\n",
        "    def __getitem__(self, idx):\n",
        "        return self.features[idx], self.target[idx]\n",
        "\n",
        "train_min = np.min(np.delete(dataset_split_train, [g1_ind, g2_ind, g3_ind], axis=1), axis=0)\n",
        "train_max = np.max(np.delete(dataset_split_train, [g1_ind, g2_ind, g3_ind], axis=1), axis=0)\n",
        "\n",
        "train_dataset_cl = GradeMClassDataset(dataset_split_train, train_min, train_max)\n",
        "val_dataset_cl = GradeMClassDataset(dataset_split_val, train_min, train_max)\n",
        "test_dataset_cl = GradeMClassDataset(dataset_split_test, train_min, train_max)\n",
        "\n",
        "b_size = 32\n",
        "\n",
        "dataloader_cl_train = DataLoader(train_dataset_cl, batch_size=b_size, shuffle=True)\n",
        "dataloader_cl_val = DataLoader(val_dataset_cl, batch_size=b_size, shuffle=True)\n",
        "dataloader_cl_test = DataLoader(test_dataset_cl, batch_size=b_size, shuffle=False)\n",
        "\n",
        "# implement your solution ABOVE\n",
        "\n",
        "tester.test('cl_iter', dataloader_cl_train, dataloader_cl_val, dataloader_cl_test)"
      ],
      "metadata": {
        "id": "I4QacNSQAhdz",
        "colab": {
          "base_uri": "https://localhost:8080/"
        },
        "outputId": "9deead6f-3ea2-43a9-d42f-07833db9e159"
      },
      "execution_count": 1284,
      "outputs": [
        {
          "output_type": "stream",
          "name": "stdout",
          "text": [
            "Tester: Dataset iterators for classification task OK\n"
          ]
        }
      ]
    },
    {
      "cell_type": "markdown",
      "metadata": {
        "id": "9xdtHfyrwexF"
      },
      "source": [
        "## **H**: A klasszifikációs neuronháló definiálása\n",
        "\n",
        "**Definiáld a klasszifikációs feladathoz alkalmazandó neuronhálót megvalósító osztályt**, mely a regressziós neuronhálót implementáló osztályhoz hasonlóan, az általános `torch.nn.Module` osztály leszármazottja! Példányosítsd az új osztályt és add értékül a `cl_model` nevű változónak a példányt!\n",
        "\n",
        "A klasszifikációs neuronháló **tartalmazzon 3 teljesen összekötött réteget! Az első kettő réteg tartalmazzon egyenként 30 és 20 neuront és alkalmazza a ReLU aktivációs függvényt a rétegek után!** Az utolsó réteget a háromkategóriás klasszifikációnak megfelelően kell kialakítani! Lásd a \"HF1 GYIK\" fórumot!"
      ]
    },
    {
      "cell_type": "code",
      "metadata": {
        "id": "30Iwot3xxVXI",
        "colab": {
          "base_uri": "https://localhost:8080/"
        },
        "outputId": "054b16dc-3235-4c82-bef0-15e458849e21"
      },
      "source": [
        "# implement your solution BELOW\n",
        "\n",
        "class MultiClassClassificationModel(nn.Module):\n",
        "  def __init__(self, input_dim, n_class):\n",
        "        super().__init__()\n",
        "        self.linear_relu_layers = nn.Sequential(\n",
        "            nn.Linear(input_dim, 30),\n",
        "            nn.ReLU(),\n",
        "            nn.Dropout(p=0.2),\n",
        "            nn.Linear(30, 20),\n",
        "            nn.ReLU(),\n",
        "            nn.Dropout(p=0.2),\n",
        "            nn.Linear(20,n_class)\n",
        "        )\n",
        "\n",
        "  def forward(self, x):\n",
        "      return self.linear_relu_layers(x)\n",
        "\n",
        "cl_model = MultiClassClassificationModel(34, 3)\n",
        "\n",
        "# implement your solution ABOVE\n",
        "\n",
        "tester.test('cl_model_architecture', cl_model)"
      ],
      "execution_count": 1285,
      "outputs": [
        {
          "output_type": "stream",
          "name": "stdout",
          "text": [
            "Tester: Classification model architecture OK\n"
          ]
        }
      ]
    },
    {
      "cell_type": "markdown",
      "metadata": {
        "id": "7uowunGxa2Mq"
      },
      "source": [
        "## **I**: A háló betanítása (multi-class) klasszifikációs feladatra\n",
        "\n",
        "**Tanítsd be a** `cl_model` **neuronhálót** a tanítóhalmazon a `dataloader_cl_train` iterátor segítségével és alkalmazd a `dataloader_cl_val` iterátort a validációhoz!\n",
        "\n",
        "Alkalmazd a multi-class klasszifikációkor szokásosan használt **cross-entropy költséget**! **Mérd le minden epoch-ban a tanító- és a validációs halmazon mért költségeket, majd a tanítás végeztével rajzold ki ezeknek az értékeknek a tanítás során való alakulását egy közös grafikonon!** A grafikonon a jelmagyarázat meglétére és a görbék könnyű elkülöníthetőségére figyelj ezúttal is!\n",
        "\n",
        "A tanítást ezúttal az **early stopping** technika állítsa le! Amennyiben adott számú epoch-on keresztül (`patience`) nem javul a validációs költség, érjen véget a betanítás és **állítsuk vissza a `cl_model` súlyait abból az epoch-ból, amikor a legjobb volt a validációs költség!** Mindez automatikusan történjen!\n",
        "\n",
        "A betanítás végeztével **mérd le az átlagos költséget a teljes teszthalmazon** és add értékül a kapott számot a `test_ce` változónak!\n",
        "\n",
        "**Számold ki az _accuracy_ (pontosság) metrikát is a teszthalmaz elemein** és add értékül a kapott számot a `test_acc` változónak! Az _accuracy_ metrika a helyesen klasszifikált mintaelemek arányát adja meg. Például, ha 150 mintaelem kategóriájának becslésekor 75 esetben találtuk el a helyes kategóriát, az _accuracy_ értéke 0.5 lesz.\n",
        "\n",
        "Ezt követően, **válassz néhány mintaelemet a teszthalmazból** (például a `dataloader_cl_test` iterátor segítségével) és **adj becslést a címkéjükre** (a kategória indexére) az input változók értékei alapján, majd **írasd ki az egyes mintaelemekre a becsült és az igazi címkéjüket** (a kategóriák indexét)! Így példákon is láthatjuk, hogy mennyire ad jó becsléseket a neuronhálónk.\n",
        "\n",
        "Végezetül, **számold ki a háló teszthalmazon vett konfúziós mátrixát és rajzold ki azt**! A konfúziós mátrix egy k x k méretű mátrix k kategória esetén, ahol az `[i,j]` indexű elem megadja, hogy az adathalmazon a modellünk hány `i` kategóriába tartozó mintaelemet becsült a `j` kategóriába. A modellünk jó teljesítményét jelzi, ha minél több elem kerül a konfúziós mátrix főátlójába. A számoláshoz felhasználhatsz külső könyvtárat is, de NumPy-ban is megoldható. A kirajzoláshoz használható például a `matplotlib.pyplot` csomag `imshow` függvénye. Figyelj rá, hogy a grafikonon világosan látszon, hogy melyik tengely sorolja fel az igazi kategóriákat és melyik a becsült kategóriákat, látszanak a sorok és oszlopok végén a kategóriák indexei és a cellákban az odatartozó mintaelemek darabszáma!\n"
      ]
    },
    {
      "cell_type": "code",
      "source": [
        "# implement your solution BELOW\n",
        "\n",
        "# callback class\n",
        "\n",
        "class Callback():\n",
        "  def __init__(self):\n",
        "    pass\n",
        "\n",
        "  def on_train_end(self, avg_train_loss):\n",
        "    pass\n",
        "\n",
        "  def on_val_end(self, avg_val_loss):\n",
        "    pass\n",
        "\n",
        "  def on_test_end(self, avg_test_loss):\n",
        "    pass\n",
        "\n",
        "  def on_epoch_end(self, trainer):\n",
        "    pass\n",
        "\n",
        "  def on_train_prediction(self, prediction, label):\n",
        "    pass\n",
        "\n",
        "  def on_val_prediction(self, prediction, label):\n",
        "    pass\n",
        "\n",
        "  def on_test_prediction(self, prediction, label):\n",
        "    pass\n",
        "\n",
        "  def on_stop(self, results):\n",
        "    pass\n",
        "\n",
        "# early stopping class\n",
        "\n",
        "class EarlyStoppingCallback(Callback):\n",
        "  def __init__(self, delta=0.01, patience=10, model=None):\n",
        "    self.delta = delta\n",
        "    self.patience = patience\n",
        "    self.best_loss = np.inf\n",
        "    self.no_improvement_count = 0\n",
        "    self.model = model\n",
        "\n",
        "  def on_val_end(self, avg_val_loss):\n",
        "    if avg_val_loss + self.delta < self.best_loss:\n",
        "      self.best_loss = avg_val_loss\n",
        "      self.no_improvement_count = 0\n",
        "    else:\n",
        "      self.no_improvement_count += 1\n",
        "\n",
        "  def on_epoch_end(self, trainer):\n",
        "    if self.no_improvement_count >= self.patience:\n",
        "      print('Stopped by early stopping.')\n",
        "      print('Best validation loss: ', self.best_loss.item())\n",
        "      trainer.stop = True\n",
        "\n",
        "# metrics callback\n",
        "\n",
        "class MetricsCallback(Callback):\n",
        "  def __init__(self, metrics_to_track):\n",
        "    self.metrics_to_track = metrics_to_track\n",
        "    self.__reset()\n",
        "\n",
        "  def __reset(self):\n",
        "    self.metrics_temp = dict()\n",
        "    self.metrics = dict()\n",
        "\n",
        "  def __add_prediction(self, prediction, label, prefix):\n",
        "    for metric_name, metric_fn in self.metrics_to_track.items():\n",
        "      key = f'{prefix}_{metric_name}'\n",
        "      if key not in self.metrics:\n",
        "        self.metrics[key] = []\n",
        "        self.metrics_temp[key] = []\n",
        "\n",
        "      self.metrics_temp[key].append(metric_fn(prediction, label).reshape(-1))\n",
        "\n",
        "  def __aggregate_metrics(self, prefix):\n",
        "    for key in self.metrics_to_track.keys():\n",
        "      self.metrics[f'{prefix}_{key}'].append(torch.cat(self.metrics_temp[f'{prefix}_{key}']).mean().item())\n",
        "      self.metrics_temp[f'{prefix}_{key}'] = []\n",
        "\n",
        "  def on_train_prediction(self, prediction, label):\n",
        "    self.__add_prediction(prediction, label, 'train')\n",
        "\n",
        "  def on_val_prediction(self, prediction, label):\n",
        "    self.__add_prediction(prediction, label, 'val')\n",
        "\n",
        "  def on_test_prediction(self, prediction, label):\n",
        "    self.__add_prediction(prediction, label, 'test')\n",
        "\n",
        "  def on_train_end(self, avg_train_loss):\n",
        "    self.__aggregate_metrics('train')\n",
        "\n",
        "  def on_val_end(self, avg_val_loss):\n",
        "    self.__aggregate_metrics('val')\n",
        "\n",
        "  def on_test_end(self, avg_test_loss):\n",
        "    self.__aggregate_metrics('test')\n",
        "\n",
        "  def on_stop(self, results):\n",
        "    metrics = {key: np.array(val) for key,val in self.metrics.items()}\n",
        "    results.update(metrics)\n",
        "    self.__reset()\n",
        "\n",
        "# trainer class\n",
        "\n",
        "class Trainer():\n",
        "  def __init__(self, model, train_dataloader, val_dataloader, optimizer, loss_fn, n_epochs=10, callbacks=[]):\n",
        "    self.model = model\n",
        "    self.train_dataloader = train_dataloader\n",
        "    self.val_dataloader = val_dataloader\n",
        "    self.optimizer = optimizer\n",
        "    self.loss_fn = loss_fn\n",
        "    self.n_epochs = n_epochs\n",
        "    self.stop = False\n",
        "    self.callbacks = callbacks\n",
        "    self.train_losses = []\n",
        "    self.val_losses = []\n",
        "\n",
        "  def __train(self, dataloader):\n",
        "    self.model.train()\n",
        "    train_epoch_losses = []\n",
        "\n",
        "    for x, y in dataloader:\n",
        "      self.optimizer.zero_grad()\n",
        "      y_hat = self.model(x)\n",
        "      loss = self.loss_fn(y_hat, y)\n",
        "      [callback.on_train_prediction(y_hat.detach(), y) for callback in self.callbacks]\n",
        "      train_epoch_losses.append(loss)\n",
        "      loss.backward()\n",
        "      self.optimizer.step()\n",
        "\n",
        "    train_epoch_losses = torch.tensor(train_epoch_losses)\n",
        "    avg_epoch_loss = train_epoch_losses.mean()\n",
        "\n",
        "    [callback.on_train_end(avg_epoch_loss) for callback in self.callbacks]\n",
        "\n",
        "    return avg_epoch_loss\n",
        "\n",
        "  def __eval(self, dataloader, test=False):\n",
        "    self.model.eval()\n",
        "    epoch_losses = []\n",
        "\n",
        "    for x, y in dataloader:\n",
        "      with torch.no_grad():\n",
        "        y_hat = self.model(x)\n",
        "\n",
        "      loss = self.loss_fn(y_hat, y)\n",
        "      if test:\n",
        "        [callback.on_test_prediction(y_hat.detach(), y) for callback in self.callbacks]\n",
        "      else:\n",
        "        [callback.on_val_prediction(y_hat.detach(), y) for callback in self.callbacks]\n",
        "\n",
        "      epoch_losses.append(loss)\n",
        "\n",
        "    epoch_losses = torch.tensor(epoch_losses)\n",
        "    avg_epoch_loss = epoch_losses.mean()\n",
        "\n",
        "    if test:\n",
        "      [callback.on_test_end(avg_epoch_loss) for callback in self.callbacks]\n",
        "    else:\n",
        "      [callback.on_val_end(avg_epoch_loss) for callback in self.callbacks]\n",
        "\n",
        "    return avg_epoch_loss\n",
        "\n",
        "  def train(self):\n",
        "    for epoch in range(self.n_epochs):\n",
        "      train_loss = self.__train(self.train_dataloader)\n",
        "      self.train_losses.append(train_loss)\n",
        "      val_loss = self.__eval(self.val_dataloader, test=False)\n",
        "      self.val_losses.append(val_loss)\n",
        "\n",
        "      print(f'Training {epoch+1}/{self.n_epochs} done, training loss: {train_loss}, validation loss: {val_loss}')\n",
        "\n",
        "      [callback.on_epoch_end(self) for callback in self.callbacks]\n",
        "\n",
        "      if self.stop:\n",
        "        break\n",
        "\n",
        "    results = {\n",
        "        'train_loss': self.train_losses,\n",
        "        'val_loss': self.val_losses\n",
        "    }\n",
        "\n",
        "    [callback.on_stop(results) for callback in self.callbacks]\n",
        "\n",
        "    return results\n",
        "\n",
        "  def test(self, test_dataloader):\n",
        "    test_loss = self.__eval(test_dataloader, test=True)\n",
        "\n",
        "    results = {\n",
        "        'test_loss': test_loss\n",
        "    }\n",
        "\n",
        "    [callback.on_stop(results) for callback in self.callbacks]\n",
        "\n",
        "    return results\n",
        "\n",
        "# training the model\n",
        "def accuracy(pred, label):\n",
        "  pred = torch.argmax(pred, dim=-1)\n",
        "\n",
        "  return (pred == label).to(torch.float32)\n",
        "\n",
        "loss_fn = nn.CrossEntropyLoss()\n",
        "\n",
        "learning_rate = 0.001\n",
        "optimizer = torch.optim.Adam(cl_model.parameters(), lr=learning_rate)\n",
        "\n",
        "earlystopping = EarlyStoppingCallback(delta=0.01, patience=20)\n",
        "metrics = MetricsCallback({ \"accuracy\": accuracy})\n",
        "callbacks = [earlystopping, metrics]\n",
        "trainer = Trainer(cl_model, dataloader_cl_train, dataloader_cl_val, optimizer, loss_fn, n_epochs=400, callbacks=callbacks)\n",
        "results = trainer.train()\n",
        "\n",
        "# testing\n",
        "test_results = trainer.test(dataloader_cl_test)\n",
        "print(test_results)\n",
        "\n",
        "test_ce = test_results[\"test_loss\"].item()\n",
        "test_acc = test_results[\"test_accuracy\"][0]\n",
        "\n",
        "cl_model.eval()\n",
        "accuracy = []\n",
        "prediction_label_pairs = []\n",
        "for x, y in dataloader_cl_test:\n",
        "    with torch.no_grad():\n",
        "      y_hat = cl_model(x)\n",
        "    prediction = torch.argmax(y_hat, dim=1)\n",
        "\n",
        "    prediction_label_pairs.append(torch.stack((prediction, y), dim=-1))\n",
        "    accuracy.append((prediction == y).to(torch.float32))\n",
        "\n",
        "accuracy = torch.cat(accuracy).mean()\n",
        "print('Accuracy: ', accuracy.item())\n",
        "print(\"Test loss:\", test_ce)\n",
        "print(\"Test sample [predicted, actual]:\\n\", prediction_label_pairs[0][:10])\n",
        "\n",
        "# plotting training and testing accuracy and loss\n",
        "plt.plot(results['train_loss'], label='Training loss')\n",
        "plt.plot(results['val_loss'], label='Validation loss')\n",
        "plt.plot(results['train_accuracy'], label='Training accuracy')\n",
        "plt.plot(results['val_accuracy'], label='Validation accuracy')\n",
        "plt.xlabel('Epochs')\n",
        "plt.ylabel('CE loss / Accuracy')\n",
        "plt.legend()\n",
        "plt.show()\n",
        "\n",
        "# confusion matrix\n",
        "import seaborn as sns\n",
        "from sklearn.metrics import confusion_matrix\n",
        "\n",
        "prediction_label_pairs = torch.cat(prediction_label_pairs, 0)\n",
        "conf = confusion_matrix(prediction_label_pairs[:,1], prediction_label_pairs[:,0])\n",
        "\n",
        "plt.figure(figsize=(5, 4))\n",
        "sns.heatmap(conf, annot=True, cmap='coolwarm', linewidths=.5)\n",
        "plt.title('Confusion matrix')\n",
        "plt.xlabel(\"Predicted values\")\n",
        "plt.ylabel(\"Actual values\")\n",
        "plt.show()\n",
        "\n",
        "# implement your solution ABOVE\n",
        "\n",
        "tester.test('cl_model_learning', test_ce, test_acc)"
      ],
      "metadata": {
        "id": "5v3_oyswb78-",
        "colab": {
          "base_uri": "https://localhost:8080/",
          "height": 1000
        },
        "outputId": "1c34226f-fcd8-4a79-cd11-c12d54618bc1"
      },
      "execution_count": 1286,
      "outputs": [
        {
          "output_type": "stream",
          "name": "stdout",
          "text": [
            "Training 1/400 done, training loss: 1.119675874710083, validation loss: 1.0923792123794556\n",
            "Training 2/400 done, training loss: 1.0949472188949585, validation loss: 1.0838335752487183\n",
            "Training 3/400 done, training loss: 1.0813714265823364, validation loss: 1.0700453519821167\n",
            "Training 4/400 done, training loss: 1.067879557609558, validation loss: 1.0662846565246582\n",
            "Training 5/400 done, training loss: 1.0445140600204468, validation loss: 1.0669394731521606\n",
            "Training 6/400 done, training loss: 1.0308513641357422, validation loss: 1.0666865110397339\n",
            "Training 7/400 done, training loss: 1.0378549098968506, validation loss: 1.0816044807434082\n",
            "Training 8/400 done, training loss: 1.011045217514038, validation loss: 1.1065930128097534\n",
            "Training 9/400 done, training loss: 1.0007871389389038, validation loss: 1.1130403280258179\n",
            "Training 10/400 done, training loss: 1.020358681678772, validation loss: 1.0943962335586548\n",
            "Training 11/400 done, training loss: 1.016717791557312, validation loss: 1.077875018119812\n",
            "Training 12/400 done, training loss: 1.005411148071289, validation loss: 1.106573224067688\n",
            "Training 13/400 done, training loss: 1.0021754503250122, validation loss: 1.0778307914733887\n",
            "Training 14/400 done, training loss: 1.0063084363937378, validation loss: 1.0691365003585815\n",
            "Training 15/400 done, training loss: 1.0076366662979126, validation loss: 1.0657435655593872\n",
            "Training 16/400 done, training loss: 0.9822477102279663, validation loss: 1.0720016956329346\n",
            "Training 17/400 done, training loss: 1.003097414970398, validation loss: 1.0703603029251099\n",
            "Training 18/400 done, training loss: 1.0173654556274414, validation loss: 1.0669611692428589\n",
            "Training 19/400 done, training loss: 0.9857796430587769, validation loss: 1.0790234804153442\n",
            "Training 20/400 done, training loss: 0.9940627217292786, validation loss: 1.0696473121643066\n",
            "Training 21/400 done, training loss: 0.970309317111969, validation loss: 1.0842406749725342\n",
            "Training 22/400 done, training loss: 0.9703943729400635, validation loss: 1.0580874681472778\n",
            "Training 23/400 done, training loss: 0.9573102593421936, validation loss: 1.0701022148132324\n",
            "Training 24/400 done, training loss: 0.9775890111923218, validation loss: 1.0718588829040527\n",
            "Training 25/400 done, training loss: 0.9622242450714111, validation loss: 1.070595145225525\n",
            "Training 26/400 done, training loss: 0.9330315589904785, validation loss: 1.0860408544540405\n",
            "Training 27/400 done, training loss: 0.953911304473877, validation loss: 1.0877331495285034\n",
            "Training 28/400 done, training loss: 0.9352124333381653, validation loss: 1.0774099826812744\n",
            "Training 29/400 done, training loss: 0.9228038191795349, validation loss: 1.0274823904037476\n",
            "Training 30/400 done, training loss: 0.9225830435752869, validation loss: 1.103383183479309\n",
            "Training 31/400 done, training loss: 0.925326406955719, validation loss: 1.0395451784133911\n",
            "Training 32/400 done, training loss: 0.9334716200828552, validation loss: 1.0493712425231934\n",
            "Training 33/400 done, training loss: 0.9302017092704773, validation loss: 1.0751146078109741\n",
            "Training 34/400 done, training loss: 0.8845627307891846, validation loss: 1.0275312662124634\n",
            "Training 35/400 done, training loss: 0.9054917097091675, validation loss: 1.0849463939666748\n",
            "Training 36/400 done, training loss: 0.8711689710617065, validation loss: 1.0776952505111694\n",
            "Training 37/400 done, training loss: 0.877666711807251, validation loss: 1.0738126039505005\n",
            "Training 38/400 done, training loss: 0.8810299634933472, validation loss: 1.071846842765808\n",
            "Training 39/400 done, training loss: 0.8693890571594238, validation loss: 1.1117810010910034\n",
            "Training 40/400 done, training loss: 0.8565276861190796, validation loss: 1.1048622131347656\n",
            "Training 41/400 done, training loss: 0.850744366645813, validation loss: 1.069199562072754\n",
            "Training 42/400 done, training loss: 0.8665019273757935, validation loss: 1.0826846361160278\n",
            "Training 43/400 done, training loss: 0.8363522291183472, validation loss: 1.016950011253357\n",
            "Training 44/400 done, training loss: 0.8351892828941345, validation loss: 1.040273666381836\n",
            "Training 45/400 done, training loss: 0.8215314745903015, validation loss: 1.0741883516311646\n",
            "Training 46/400 done, training loss: 0.8349916934967041, validation loss: 1.0511873960494995\n",
            "Training 47/400 done, training loss: 0.8016507029533386, validation loss: 1.0548250675201416\n",
            "Training 48/400 done, training loss: 0.809161365032196, validation loss: 1.0657445192337036\n",
            "Training 49/400 done, training loss: 0.7649285793304443, validation loss: 1.0889686346054077\n",
            "Training 50/400 done, training loss: 0.8045940399169922, validation loss: 1.1300183534622192\n",
            "Training 51/400 done, training loss: 0.8164783120155334, validation loss: 1.0379728078842163\n",
            "Training 52/400 done, training loss: 0.8038695454597473, validation loss: 1.033894419670105\n",
            "Training 53/400 done, training loss: 0.7851027846336365, validation loss: 1.0451641082763672\n",
            "Training 54/400 done, training loss: 0.8055713176727295, validation loss: 1.0770329236984253\n",
            "Training 55/400 done, training loss: 0.809194803237915, validation loss: 1.0520219802856445\n",
            "Training 56/400 done, training loss: 0.7778421640396118, validation loss: 1.0772305727005005\n",
            "Training 57/400 done, training loss: 0.7808391451835632, validation loss: 1.035904049873352\n",
            "Training 58/400 done, training loss: 0.7270464897155762, validation loss: 1.126477837562561\n",
            "Training 59/400 done, training loss: 0.7362990379333496, validation loss: 1.1473140716552734\n",
            "Training 60/400 done, training loss: 0.7553051710128784, validation loss: 1.1261016130447388\n",
            "Training 61/400 done, training loss: 0.7392899394035339, validation loss: 1.1222023963928223\n",
            "Training 62/400 done, training loss: 0.7273098230361938, validation loss: 1.0605230331420898\n",
            "Training 63/400 done, training loss: 0.7409356236457825, validation loss: 1.133835792541504\n",
            "Stopped by early stopping.\n",
            "Best validation loss:  1.016950011253357\n",
            "{'test_loss': tensor(1.1163), 'test_accuracy': array([0.49367088])}\n",
            "Accuracy:  0.49367088079452515\n",
            "Test loss: 1.1162731647491455\n",
            "Test sample [predicted, actual]:\n",
            " tensor([[1, 2],\n",
            "        [1, 1],\n",
            "        [1, 0],\n",
            "        [1, 0],\n",
            "        [0, 0],\n",
            "        [0, 1],\n",
            "        [1, 1],\n",
            "        [1, 0],\n",
            "        [0, 0],\n",
            "        [1, 2]])\n"
          ]
        },
        {
          "output_type": "display_data",
          "data": {
            "text/plain": [
              "<Figure size 640x480 with 1 Axes>"
            ],
            "image/png": "[encoded data removed]"
          },
          "metadata": {}
        },
        {
          "output_type": "display_data",
          "data": {
            "text/plain": [
              "<Figure size 500x400 with 2 Axes>"
            ],
            "image/png": "[encoded data removed]"
          },
          "metadata": {}
        },
        {
          "output_type": "stream",
          "name": "stdout",
          "text": [
            "Tester: Classification model learning OK\n"
          ]
        }
      ]
    }
  ]
}